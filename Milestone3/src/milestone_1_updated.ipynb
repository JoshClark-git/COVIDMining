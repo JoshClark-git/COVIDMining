{
 "metadata": {
  "language_info": {
   "codemirror_mode": {
    "name": "ipython",
    "version": 3
   },
   "file_extension": ".py",
   "mimetype": "text/x-python",
   "name": "python",
   "nbconvert_exporter": "python",
   "pygments_lexer": "ipython3",
   "version": "3.9.1"
  },
  "orig_nbformat": 2,
  "kernelspec": {
   "name": "python391jvsc74a57bd063fd5069d213b44bf678585dea6b12cceca9941eaf7f819626cde1f2670de90d",
   "display_name": "Python 3.9.1 64-bit"
  }
 },
 "nbformat": 4,
 "nbformat_minor": 2,
 "cells": [
  {
   "cell_type": "code",
   "execution_count": 283,
   "metadata": {},
   "outputs": [],
   "source": [
    "import pandas as pd\n",
    "import numpy as np\n",
    "import math\n",
    "import time\n",
    "import os\n",
    "from functools import reduce\n",
    "import re\n",
    "from geopy.geocoders import Nominatim\n",
    "from datetime import datetime\n",
    "\n",
    "geolocator = Nominatim(user_agent=\"cmpt459\")"
   ]
  },
  {
   "cell_type": "code",
   "execution_count": 78,
   "metadata": {},
   "outputs": [],
   "source": [
    "#1.2 Clean age column\n",
    "\n",
    "def clean_data(df):\n",
    "\n",
    "  df.age.astype(str)\n",
    "\n",
    "  # get all non empty age rows\n",
    "  non_age_empty_cases = df.dropna(subset=['age'])\n",
    "\n",
    "  # clean up age ranges\n",
    "  mask = (non_age_empty_cases['age'].str.contains('-'))\n",
    "\n",
    "  # convert age range to the middle age value\n",
    "  def range_to_age(row):\n",
    "    age_range = row.age.replace(' ', '').split('-')\n",
    "    if any((not age.isnumeric() or age == '') for age in age_range):\n",
    "     for age in age_range:\n",
    "       if age.isnumeric():\n",
    "         return age\n",
    "    else:\n",
    "      mean_age = reduce(lambda a, b: int(a) + int(b), age_range) / len(age_range)\n",
    "      return mean_age \n",
    "\n",
    "  non_age_empty_cases.loc[mask, 'age'] = non_age_empty_cases[mask].apply(lambda row: range_to_age(row), axis=1)\n",
    "\n",
    "  # convert babies/month old children to 1 years old if months < 12 \n",
    "  non_age_empty_cases['age'] = non_age_empty_cases.age.astype(str)\n",
    "  month_mask = (non_age_empty_cases['age'].str.contains('month'))\n",
    "\n",
    "  def months_to_years(row):\n",
    "    months = int(re.sub('[^0-9]','', row.age))\n",
    "    return 1 if months < 12 else months/12\n",
    "\n",
    "  non_age_empty_cases.loc[month_mask, 'age'] = non_age_empty_cases[month_mask].apply(lambda row: months_to_years(row), axis=1)\n",
    "\n",
    "  # remove other symbols\n",
    "  non_age_empty_cases['age'] = non_age_empty_cases.age.str.replace('+', '', regex=False)\n",
    "\n",
    "  non_age_empty_cases['age'] = non_age_empty_cases.age.astype(float)\n",
    "\n",
    "  # get all missing age values and fill them with mean age of the rest of the rows\n",
    "  mean_age = non_age_empty_cases['age'].mean()\n",
    "\n",
    "  empty_age_cases = df[df.age.isna()]\n",
    "  empty_age_cases['age'] = mean_age\n",
    "  empty_age_cases['age'] = empty_age_cases.age.astype(float)\n",
    "\n",
    "  df = pd.concat([non_age_empty_cases, empty_age_cases])\n",
    "\n",
    "  # impute missing sex\n",
    "\n",
    "  non_empty_sex =  df.dropna(subset=['sex'])\n",
    "  empty_sex = df[df.sex.isna()]\n",
    "\n",
    "  # shuffle rows\n",
    "  empty_sex = empty_sex.sample(frac=1)\n",
    "\n",
    "  # assign half of empty sex cells as male, other half as female\n",
    "  half_row_count = int(len(empty_sex.index)/2)\n",
    "\n",
    "  empty_sex.iloc[:half_row_count].sex = 'female'\n",
    "  empty_sex.iloc[half_row_count:].sex = 'male'\n",
    "\n",
    "  #merge dfs again\n",
    "  df = pd.concat([non_empty_sex, empty_sex])\n",
    "\n",
    "  # shuffle rows\n",
    "  df = df.sample(frac=1)\n",
    "\n",
    "  # impute missing country\n",
    "\n",
    "  # drop where countries and lat long are missing\n",
    "  df = df.dropna(subset=['country', 'latitude', 'longitude'], how='all')\n",
    "  \n",
    "  non_empty_country =  df.dropna(subset=['country'])\n",
    "  empty_country = df[df.country.isna()]\n",
    "  \n",
    "  def get_country(row):\n",
    "    location = geolocator.reverse(','.join([str(row.latitude), str(row.longitude)]), language='en')\n",
    "    return location.address.split(\",\")[-1]\n",
    "  \n",
    "  empty_country['country'] = empty_country.apply(func=get_country, axis=1)\n",
    "\n",
    "  #merge\n",
    "  df = pd.concat([non_empty_country, empty_country])\n",
    "  \n",
    "  df = df.sort_index()\n",
    "  return df\n"
   ]
  },
  {
   "cell_type": "code",
   "execution_count": 108,
   "metadata": {},
   "outputs": [],
   "source": [
    "\n",
    "#1.4: \n",
    "\n",
    "def transform_counties(df):\n",
    "  us_mask = (df['Country_Region'] == 'US')\n",
    "  non_us_country = df[~us_mask]\n",
    " \n",
    "  us_country = df[us_mask]\n",
    "\n",
    "  us_country = us_country.groupby(['Province_State']).mean().reset_index()\n",
    "\n",
    "  us_country['Country_Region'] = 'United States'\n",
    "  us_country['Combined_Key'] = us_country['Province_State'].apply(lambda province : province + \", United States\")\n",
    "  return pd.concat([us_country, non_us_country])\n",
    "\n",
    "\n"
   ]
  },
  {
   "cell_type": "code",
   "execution_count": null,
   "metadata": {},
   "outputs": [],
   "source": [
    "# impute missing incidence,"
   ]
  },
  {
   "cell_type": "code",
   "execution_count": 317,
   "metadata": {},
   "outputs": [],
   "source": [
    "#1.5: merge location and cases_train\n",
    "\n",
    "def merge_df_location(cases_df, location_df):\n",
    "    cases = cases_df.copy()\n",
    "    cases['combined_key'] = cases.apply(lambda x: add_combined_key(x, location_df), axis=1)\n",
    "    \n",
    "    cases = pd.merge(cases, location_df, left_on=['combined_key'], right_on=['Combined_Key'], how=\"left\")\n",
    "    cases.drop(['Province_State', 'Country_Region', 'Lat', 'Long_', 'Last_Update'], axis=1)\n",
    "    return cases\n",
    "\n",
    "# def impute_location(location_df):\n",
    "    \n",
    "\n",
    "#   province_location_df = location_df.dropna(subset=['Province_State'])\n",
    "#   empty_province_location_df = location_df[location_df.Province_State.isna()]\n",
    "#   print(len(province_location_df.index))\n",
    "#   print(len(empty_province_location_df.index))\n",
    "#   print(len(cases_df.index))\n",
    "#   merged_dataset_province = pd.merge(cases_df, province_location_df, left_on=['province'], right_on=['Province_State'], how=\"left\")\n",
    "#   merged_dataset_empty_province = pd.merge(cases_df, empty_province_location_df, left_on=['country'], right_on=['Country_Region'], how=\"left\")    \n",
    "#   merged_dataset = pd.concat([merged_dataset_province, merged_dataset_empty_province])\n",
    "#   merged_dateset = merged_dataset.sort_index()\n",
    "#   merged_dataset.drop(['Province_State', 'Country_Region', 'Lat', 'Long_', 'Last_Update'], axis=1)\n",
    "# #   merged_dataset = cases_df.set_index('country').join(location_df.set_index('Country_Region'))\n",
    "#   return merged_dataset\n",
    "\n",
    "def add_combined_key(row, location_df):\n",
    "    # no province case\n",
    "    if location_df['Combined_Key'].eq(row['country']).any():\n",
    "        return row['country']\n",
    "\n",
    "    combined = str(row['province']) + ', ' + row['country']\n",
    "    combined = combined.lower()\n",
    "    if location_df['Combined_Key'].str.lower().str.contains(combined).any():\n",
    "        return location_df[location_df['Combined_Key'].str.lower().str.contains(combined)].iloc[0]['Combined_Key']\n",
    "    elif location_df['Province_State'].str.lower().str.contains(row['country'].lower()).any():\n",
    "        return location_df[location_df['Province_State'].str.lower().str.contains(row['country'].lower(), na=False)].iloc[0]['Combined_Key']\n",
    "    elif location_df['Combined_Key'].str.lower().str.contains(str(row['province']).lower(), na=False).any():\n",
    "         return location_df[location_df['Combined_Key'].str.lower().str.contains(str(row['province']).lower())].iloc[0]['Combined_Key']\n",
    "    elif location_df['Combined_Key'].str.lower().str.contains(row['country'].lower()).any():\n",
    "        return 'Unknown, ' + row['country']\n",
    "# simply use this function on merged train_dataset as input_df,\n",
    "# as well as dataframe from location.csv\n",
    "def process_outlier(input_df, location_df):\n",
    "    #1 remove date confirmed after June 2020\n",
    "    input_df['date_confirmation'] = pd.to_datetime(\n",
    "        input_df['date_confirmation'], format='%d.%m.%Y', errors='coerce')\n",
    "    df = input_df[input_df['date_confirmation'] < '2020-06-01']\n",
    "    #2 remove rows with abnormal Case-Fatality ratio\n",
    "    lower, upper = get_case_fatality_range(location_df)\n",
    "    df = df[(df['Case-Fatality_Ratio'] > lower) &\n",
    "            (df['Case-Fatality_Ratio'] < upper)]\n",
    "\n",
    "    return df\n",
    "\n",
    "# function to calculate filter range\n",
    "def get_case_fatality_range(location_df):\n",
    "    mean_val = location_df['Case-Fatality_Ratio'].mean()\n",
    "    sd = location_df['Case-Fatality_Ratio'].std()\n",
    "    lower_bound = mean_val-3*sd\n",
    "    upper_bound = mean_val+3*sd\n",
    "    if (lower_bound < 0):\n",
    "        lower_bound = 0\n",
    "    return (lower_bound, upper_bound)"
   ]
  },
  {
   "cell_type": "code",
   "execution_count": 295,
   "metadata": {},
   "outputs": [
    {
     "output_type": "stream",
     "name": "stderr",
     "text": [
      "C:\\Python39\\lib\\site-packages\\pandas\\core\\indexing.py:1676: SettingWithCopyWarning: \n",
      "A value is trying to be set on a copy of a slice from a DataFrame.\n",
      "Try using .loc[row_indexer,col_indexer] = value instead\n",
      "\n",
      "See the caveats in the documentation: https://pandas.pydata.org/pandas-docs/stable/user_guide/indexing.html#returning-a-view-versus-a-copy\n",
      "  self._setitem_single_column(ilocs[0], value, pi)\n",
      "<ipython-input-78-54f66620475f>:27: SettingWithCopyWarning: \n",
      "A value is trying to be set on a copy of a slice from a DataFrame.\n",
      "Try using .loc[row_indexer,col_indexer] = value instead\n",
      "\n",
      "See the caveats in the documentation: https://pandas.pydata.org/pandas-docs/stable/user_guide/indexing.html#returning-a-view-versus-a-copy\n",
      "  non_age_empty_cases['age'] = non_age_empty_cases.age.astype(str)\n",
      "<ipython-input-78-54f66620475f>:37: SettingWithCopyWarning: \n",
      "A value is trying to be set on a copy of a slice from a DataFrame.\n",
      "Try using .loc[row_indexer,col_indexer] = value instead\n",
      "\n",
      "See the caveats in the documentation: https://pandas.pydata.org/pandas-docs/stable/user_guide/indexing.html#returning-a-view-versus-a-copy\n",
      "  non_age_empty_cases['age'] = non_age_empty_cases.age.str.replace('+', '', regex=False)\n",
      "<ipython-input-78-54f66620475f>:39: SettingWithCopyWarning: \n",
      "A value is trying to be set on a copy of a slice from a DataFrame.\n",
      "Try using .loc[row_indexer,col_indexer] = value instead\n",
      "\n",
      "See the caveats in the documentation: https://pandas.pydata.org/pandas-docs/stable/user_guide/indexing.html#returning-a-view-versus-a-copy\n",
      "  non_age_empty_cases['age'] = non_age_empty_cases.age.astype(float)\n",
      "<ipython-input-78-54f66620475f>:45: SettingWithCopyWarning: \n",
      "A value is trying to be set on a copy of a slice from a DataFrame.\n",
      "Try using .loc[row_indexer,col_indexer] = value instead\n",
      "\n",
      "See the caveats in the documentation: https://pandas.pydata.org/pandas-docs/stable/user_guide/indexing.html#returning-a-view-versus-a-copy\n",
      "  empty_age_cases['age'] = mean_age\n",
      "<ipython-input-78-54f66620475f>:46: SettingWithCopyWarning: \n",
      "A value is trying to be set on a copy of a slice from a DataFrame.\n",
      "Try using .loc[row_indexer,col_indexer] = value instead\n",
      "\n",
      "See the caveats in the documentation: https://pandas.pydata.org/pandas-docs/stable/user_guide/indexing.html#returning-a-view-versus-a-copy\n",
      "  empty_age_cases['age'] = empty_age_cases.age.astype(float)\n",
      "C:\\Python39\\lib\\site-packages\\pandas\\core\\generic.py:5491: SettingWithCopyWarning: \n",
      "A value is trying to be set on a copy of a slice from a DataFrame.\n",
      "Try using .loc[row_indexer,col_indexer] = value instead\n",
      "\n",
      "See the caveats in the documentation: https://pandas.pydata.org/pandas-docs/stable/user_guide/indexing.html#returning-a-view-versus-a-copy\n",
      "  self[name] = value\n",
      "<ipython-input-78-54f66620475f>:82: SettingWithCopyWarning: \n",
      "A value is trying to be set on a copy of a slice from a DataFrame.\n",
      "Try using .loc[row_indexer,col_indexer] = value instead\n",
      "\n",
      "See the caveats in the documentation: https://pandas.pydata.org/pandas-docs/stable/user_guide/indexing.html#returning-a-view-versus-a-copy\n",
      "  empty_country['country'] = empty_country.apply(func=get_country, axis=1)\n",
      "C:\\Python39\\lib\\site-packages\\pandas\\core\\indexing.py:1676: SettingWithCopyWarning: \n",
      "A value is trying to be set on a copy of a slice from a DataFrame.\n",
      "Try using .loc[row_indexer,col_indexer] = value instead\n",
      "\n",
      "See the caveats in the documentation: https://pandas.pydata.org/pandas-docs/stable/user_guide/indexing.html#returning-a-view-versus-a-copy\n",
      "  self._setitem_single_column(ilocs[0], value, pi)\n",
      "<ipython-input-78-54f66620475f>:27: SettingWithCopyWarning: \n",
      "A value is trying to be set on a copy of a slice from a DataFrame.\n",
      "Try using .loc[row_indexer,col_indexer] = value instead\n",
      "\n",
      "See the caveats in the documentation: https://pandas.pydata.org/pandas-docs/stable/user_guide/indexing.html#returning-a-view-versus-a-copy\n",
      "  non_age_empty_cases['age'] = non_age_empty_cases.age.astype(str)\n",
      "<ipython-input-78-54f66620475f>:37: SettingWithCopyWarning: \n",
      "A value is trying to be set on a copy of a slice from a DataFrame.\n",
      "Try using .loc[row_indexer,col_indexer] = value instead\n",
      "\n",
      "See the caveats in the documentation: https://pandas.pydata.org/pandas-docs/stable/user_guide/indexing.html#returning-a-view-versus-a-copy\n",
      "  non_age_empty_cases['age'] = non_age_empty_cases.age.str.replace('+', '', regex=False)\n",
      "<ipython-input-78-54f66620475f>:39: SettingWithCopyWarning: \n",
      "A value is trying to be set on a copy of a slice from a DataFrame.\n",
      "Try using .loc[row_indexer,col_indexer] = value instead\n",
      "\n",
      "See the caveats in the documentation: https://pandas.pydata.org/pandas-docs/stable/user_guide/indexing.html#returning-a-view-versus-a-copy\n",
      "  non_age_empty_cases['age'] = non_age_empty_cases.age.astype(float)\n",
      "<ipython-input-78-54f66620475f>:45: SettingWithCopyWarning: \n",
      "A value is trying to be set on a copy of a slice from a DataFrame.\n",
      "Try using .loc[row_indexer,col_indexer] = value instead\n",
      "\n",
      "See the caveats in the documentation: https://pandas.pydata.org/pandas-docs/stable/user_guide/indexing.html#returning-a-view-versus-a-copy\n",
      "  empty_age_cases['age'] = mean_age\n",
      "<ipython-input-78-54f66620475f>:46: SettingWithCopyWarning: \n",
      "A value is trying to be set on a copy of a slice from a DataFrame.\n",
      "Try using .loc[row_indexer,col_indexer] = value instead\n",
      "\n",
      "See the caveats in the documentation: https://pandas.pydata.org/pandas-docs/stable/user_guide/indexing.html#returning-a-view-versus-a-copy\n",
      "  empty_age_cases['age'] = empty_age_cases.age.astype(float)\n",
      "C:\\Python39\\lib\\site-packages\\pandas\\core\\generic.py:5491: SettingWithCopyWarning: \n",
      "A value is trying to be set on a copy of a slice from a DataFrame.\n",
      "Try using .loc[row_indexer,col_indexer] = value instead\n",
      "\n",
      "See the caveats in the documentation: https://pandas.pydata.org/pandas-docs/stable/user_guide/indexing.html#returning-a-view-versus-a-copy\n",
      "  self[name] = value\n"
     ]
    }
   ],
   "source": [
    "\n",
    "cases_df = pd.read_csv('../data/cases_train.csv')\n",
    "\n",
    "cases_df.drop('additional_information',axis = 1,inplace = True)\n",
    "cases_df.drop('source',axis = 1,inplace = True)\n",
    "\n",
    "test_df = pd.read_csv('../data/cases_test.csv')\n",
    "\n",
    "test_df.drop('additional_information',axis = 1,inplace = True)\n",
    "test_df.drop('source',axis = 1,inplace = True)\n",
    "\n",
    "location_df = pd.read_csv('../data/location.csv')\n",
    "\n",
    "clean_cases_df = clean_data(cases_df)\n",
    "\n",
    "clean_test_df = clean_data(test_df)\n",
    "\n",
    "location_df = transform_counties(location_df)\n"
   ]
  },
  {
   "cell_type": "code",
   "execution_count": 296,
   "metadata": {},
   "outputs": [],
   "source": [
    "location_df['Incidence_Rate'] = location_df['Incidence_Rate'].fillna(location_df.groupby('Country_Region')['Incidence_Rate'].transform('mean'))\n",
    "location_df['Case-Fatality_Ratio'] = location_df['Case-Fatality_Ratio'].fillna(location_df.groupby('Country_Region')['Case-Fatality_Ratio'].transform('mean'))\n",
    "location_df['Active'] = location_df['Active'].fillna(location_df.groupby('Country_Region')['Active'].transform('mean'))"
   ]
  },
  {
   "cell_type": "code",
   "execution_count": 297,
   "metadata": {},
   "outputs": [],
   "source": [
    "agg = location_df.groupby('Country_Region').agg(np.mean)"
   ]
  },
  {
   "cell_type": "code",
   "execution_count": 298,
   "metadata": {},
   "outputs": [],
   "source": [
    "col = agg.loc['Colombia']\n",
    "ukr = agg.loc['Ukraine']\n",
    "russ = agg.loc['Russia']\n",
    "mex = agg.loc['Mexico']\n",
    "swe = agg.loc['Sweden']"
   ]
  },
  {
   "cell_type": "code",
   "execution_count": 232,
   "metadata": {},
   "outputs": [
    {
     "output_type": "execute_result",
     "data": {
      "text/plain": [
       "Lat                        5.349139\n",
       "Long_                    -74.190797\n",
       "Confirmed              22981.757576\n",
       "Deaths                   728.454545\n",
       "Recovered              19020.757576\n",
       "Active                  3232.545455\n",
       "Incidence_Rate          1218.239013\n",
       "Case-Fatality_Ratio        3.101681\n",
       "Name: Colombia, dtype: float64"
      ]
     },
     "metadata": {},
     "execution_count": 232
    }
   ],
   "source": [
    "col"
   ]
  },
  {
   "cell_type": "code",
   "execution_count": 299,
   "metadata": {},
   "outputs": [],
   "source": [
    "\n",
    "location_df.loc[-1] = ['Unknown', col.Lat, col.Long_, col.Confirmed, col.Deaths, col.Recovered, col.Active, col.Incidence_Rate, col['Case-Fatality_Ratio'], 'Colombia', 'Unknown, Colombia', np.nan]  # adding a row\n",
    "col = ukr\n",
    "location_df.loc[-2] = ['Unknown', col.Lat, col.Long_, col.Confirmed, col.Deaths, col.Recovered, col.Active, col.Incidence_Rate, col['Case-Fatality_Ratio'], 'Ukraine', 'Unknown, Ukraine', np.nan]  # adding a row\n",
    "col = russ\n",
    "location_df.loc[-3] = ['Unknown', col.Lat, col.Long_, col.Confirmed, col.Deaths, col.Recovered, col.Active, col.Incidence_Rate, col['Case-Fatality_Ratio'], 'Russia', 'Unknown, Russia', np.nan]  # adding a row\n",
    "col = mex\n",
    "location_df.loc[-4] = ['Unknown', col.Lat, col.Long_, col.Confirmed, col.Deaths, col.Recovered, col.Active, col.Incidence_Rate, col['Case-Fatality_Ratio'], 'Mexico', 'Unknown, Mexico', np.nan]  # adding a row\n",
    "col = swe\n",
    "location_df.loc[-5] = ['Unknown', col.Lat, col.Long_, col.Confirmed, col.Deaths, col.Recovered, col.Active, col.Incidence_Rate, col['Case-Fatality_Ratio'], 'Sweden', 'Unknown, Sweden', np.nan]  # adding a row"
   ]
  },
  {
   "cell_type": "code",
   "execution_count": 307,
   "metadata": {},
   "outputs": [
    {
     "output_type": "execute_result",
     "data": {
      "text/plain": [
       "     Province_State        Lat       Long_     Confirmed       Deaths  \\\n",
       "5           Unknown  59.680643   15.736519   4201.761905   279.285714   \n",
       "6           Unknown  21.720234 -100.527288  21691.281250  2289.312500   \n",
       "7           Unknown  54.546312   62.120860  13167.650602   232.168675   \n",
       "8           Unknown  48.845430   30.781274   6557.333333   132.777778   \n",
       "9           Unknown   5.349139  -74.190797  22981.757576   728.454545   \n",
       "...             ...        ...         ...           ...          ...   \n",
       "3958            NaN  31.952200   35.233200  35003.000000   253.000000   \n",
       "3959            NaN  24.215500  -12.885800     10.000000     1.000000   \n",
       "3960            NaN  15.552727   48.516388   2026.000000   585.000000   \n",
       "3961            NaN -13.133897   27.849332  14070.000000   330.000000   \n",
       "3962            NaN -19.015438   29.154857   7672.000000   225.000000   \n",
       "\n",
       "         Recovered        Active  Incidence_Rate  Case-Fatality_Ratio  \\\n",
       "5         0.000000   3922.476190      786.498318             5.768545   \n",
       "6     18317.312500   1084.656250      563.132233            11.173238   \n",
       "7     10886.084337   2049.397590      764.722354             1.397390   \n",
       "8      2950.777778   3473.777778      427.840823             2.067723   \n",
       "9     19020.757576   3232.545455     1218.239013             3.101681   \n",
       "...            ...           ...             ...                  ...   \n",
       "3958  23446.000000  11304.000000      686.142828             0.722795   \n",
       "3959      8.000000      1.000000        1.674116            10.000000   \n",
       "3960   1221.000000    220.000000        6.792738            28.874630   \n",
       "3961  13365.000000    375.000000       76.534126             2.345416   \n",
       "3962   5914.000000   1533.000000       51.618366             2.932742   \n",
       "\n",
       "          Country_Region        Combined_Key          Last_Update  \n",
       "5                 Sweden     Unknown, Sweden                  NaN  \n",
       "6                 Mexico     Unknown, Mexico                  NaN  \n",
       "7                 Russia     Unknown, Russia                  NaN  \n",
       "8                Ukraine    Unknown, Ukraine                  NaN  \n",
       "9               Colombia   Unknown, Colombia                  NaN  \n",
       "...                  ...                 ...                  ...  \n",
       "3958  West Bank and Gaza  West Bank and Gaza  2020-09-20 04:22:56  \n",
       "3959      Western Sahara      Western Sahara  2020-09-20 04:22:56  \n",
       "3960               Yemen               Yemen  2020-09-20 04:22:56  \n",
       "3961              Zambia              Zambia  2020-09-20 04:22:56  \n",
       "3962            Zimbabwe            Zimbabwe  2020-09-20 04:22:56  \n",
       "\n",
       "[746 rows x 12 columns]"
      ],
      "text/html": "<div>\n<style scoped>\n    .dataframe tbody tr th:only-of-type {\n        vertical-align: middle;\n    }\n\n    .dataframe tbody tr th {\n        vertical-align: top;\n    }\n\n    .dataframe thead th {\n        text-align: right;\n    }\n</style>\n<table border=\"1\" class=\"dataframe\">\n  <thead>\n    <tr style=\"text-align: right;\">\n      <th></th>\n      <th>Province_State</th>\n      <th>Lat</th>\n      <th>Long_</th>\n      <th>Confirmed</th>\n      <th>Deaths</th>\n      <th>Recovered</th>\n      <th>Active</th>\n      <th>Incidence_Rate</th>\n      <th>Case-Fatality_Ratio</th>\n      <th>Country_Region</th>\n      <th>Combined_Key</th>\n      <th>Last_Update</th>\n    </tr>\n  </thead>\n  <tbody>\n    <tr>\n      <th>5</th>\n      <td>Unknown</td>\n      <td>59.680643</td>\n      <td>15.736519</td>\n      <td>4201.761905</td>\n      <td>279.285714</td>\n      <td>0.000000</td>\n      <td>3922.476190</td>\n      <td>786.498318</td>\n      <td>5.768545</td>\n      <td>Sweden</td>\n      <td>Unknown, Sweden</td>\n      <td>NaN</td>\n    </tr>\n    <tr>\n      <th>6</th>\n      <td>Unknown</td>\n      <td>21.720234</td>\n      <td>-100.527288</td>\n      <td>21691.281250</td>\n      <td>2289.312500</td>\n      <td>18317.312500</td>\n      <td>1084.656250</td>\n      <td>563.132233</td>\n      <td>11.173238</td>\n      <td>Mexico</td>\n      <td>Unknown, Mexico</td>\n      <td>NaN</td>\n    </tr>\n    <tr>\n      <th>7</th>\n      <td>Unknown</td>\n      <td>54.546312</td>\n      <td>62.120860</td>\n      <td>13167.650602</td>\n      <td>232.168675</td>\n      <td>10886.084337</td>\n      <td>2049.397590</td>\n      <td>764.722354</td>\n      <td>1.397390</td>\n      <td>Russia</td>\n      <td>Unknown, Russia</td>\n      <td>NaN</td>\n    </tr>\n    <tr>\n      <th>8</th>\n      <td>Unknown</td>\n      <td>48.845430</td>\n      <td>30.781274</td>\n      <td>6557.333333</td>\n      <td>132.777778</td>\n      <td>2950.777778</td>\n      <td>3473.777778</td>\n      <td>427.840823</td>\n      <td>2.067723</td>\n      <td>Ukraine</td>\n      <td>Unknown, Ukraine</td>\n      <td>NaN</td>\n    </tr>\n    <tr>\n      <th>9</th>\n      <td>Unknown</td>\n      <td>5.349139</td>\n      <td>-74.190797</td>\n      <td>22981.757576</td>\n      <td>728.454545</td>\n      <td>19020.757576</td>\n      <td>3232.545455</td>\n      <td>1218.239013</td>\n      <td>3.101681</td>\n      <td>Colombia</td>\n      <td>Unknown, Colombia</td>\n      <td>NaN</td>\n    </tr>\n    <tr>\n      <th>...</th>\n      <td>...</td>\n      <td>...</td>\n      <td>...</td>\n      <td>...</td>\n      <td>...</td>\n      <td>...</td>\n      <td>...</td>\n      <td>...</td>\n      <td>...</td>\n      <td>...</td>\n      <td>...</td>\n      <td>...</td>\n    </tr>\n    <tr>\n      <th>3958</th>\n      <td>NaN</td>\n      <td>31.952200</td>\n      <td>35.233200</td>\n      <td>35003.000000</td>\n      <td>253.000000</td>\n      <td>23446.000000</td>\n      <td>11304.000000</td>\n      <td>686.142828</td>\n      <td>0.722795</td>\n      <td>West Bank and Gaza</td>\n      <td>West Bank and Gaza</td>\n      <td>2020-09-20 04:22:56</td>\n    </tr>\n    <tr>\n      <th>3959</th>\n      <td>NaN</td>\n      <td>24.215500</td>\n      <td>-12.885800</td>\n      <td>10.000000</td>\n      <td>1.000000</td>\n      <td>8.000000</td>\n      <td>1.000000</td>\n      <td>1.674116</td>\n      <td>10.000000</td>\n      <td>Western Sahara</td>\n      <td>Western Sahara</td>\n      <td>2020-09-20 04:22:56</td>\n    </tr>\n    <tr>\n      <th>3960</th>\n      <td>NaN</td>\n      <td>15.552727</td>\n      <td>48.516388</td>\n      <td>2026.000000</td>\n      <td>585.000000</td>\n      <td>1221.000000</td>\n      <td>220.000000</td>\n      <td>6.792738</td>\n      <td>28.874630</td>\n      <td>Yemen</td>\n      <td>Yemen</td>\n      <td>2020-09-20 04:22:56</td>\n    </tr>\n    <tr>\n      <th>3961</th>\n      <td>NaN</td>\n      <td>-13.133897</td>\n      <td>27.849332</td>\n      <td>14070.000000</td>\n      <td>330.000000</td>\n      <td>13365.000000</td>\n      <td>375.000000</td>\n      <td>76.534126</td>\n      <td>2.345416</td>\n      <td>Zambia</td>\n      <td>Zambia</td>\n      <td>2020-09-20 04:22:56</td>\n    </tr>\n    <tr>\n      <th>3962</th>\n      <td>NaN</td>\n      <td>-19.015438</td>\n      <td>29.154857</td>\n      <td>7672.000000</td>\n      <td>225.000000</td>\n      <td>5914.000000</td>\n      <td>1533.000000</td>\n      <td>51.618366</td>\n      <td>2.932742</td>\n      <td>Zimbabwe</td>\n      <td>Zimbabwe</td>\n      <td>2020-09-20 04:22:56</td>\n    </tr>\n  </tbody>\n</table>\n<p>746 rows × 12 columns</p>\n</div>"
     },
     "metadata": {},
     "execution_count": 307
    }
   ],
   "source": [
    "location_df.index = location_df.index+5\n",
    "location_df.sort_index()"
   ]
  },
  {
   "cell_type": "code",
   "execution_count": 301,
   "metadata": {},
   "outputs": [],
   "source": [
    "def impute_confirmation(X):\n",
    "    X_1 = X.copy()\n",
    "    X_1['date_confirmation'] = X_1['date_confirmation'].fillna('31.05.2020')\n",
    "    return X_1"
   ]
  },
  {
   "cell_type": "code",
   "execution_count": 302,
   "metadata": {},
   "outputs": [],
   "source": [
    "def encode_confirmation(X):\n",
    "    X['date_confirmation'] = pd.to_datetime(X['date_confirmation'],format='%d.%m.%Y', errors='coerce')\n",
    "    X['date_confirmation'] = X.apply(lambda x: (datetime.now() - x['date_confirmation']).days, axis=1)\n",
    "    return X"
   ]
  },
  {
   "cell_type": "code",
   "execution_count": 303,
   "metadata": {},
   "outputs": [],
   "source": [
    "def impute_age(X):\n",
    "    null_data = X[X.isnull().any(axis=1)]\n",
    "    X['age'] = X['age'].fillna(X['age'].mean())\n",
    "    return X"
   ]
  },
  {
   "cell_type": "code",
   "execution_count": 304,
   "metadata": {},
   "outputs": [],
   "source": [
    "def clean_combined(X):\n",
    "    X['combined_key'].replace(', ', '_', regex=True, inplace=True)\n",
    "    return X"
   ]
  },
  {
   "cell_type": "code",
   "execution_count": 318,
   "metadata": {},
   "outputs": [],
   "source": [
    "merged_dataset_train = merge_df_location(clean_cases_df, location_df)\n",
    "\n",
    "merged_dataset_train = process_outlier(merged_dataset_train, location_df)\n",
    "\n",
    "merged_test = merge_df_location(clean_test_df, location_df)"
   ]
  },
  {
   "cell_type": "code",
   "execution_count": 319,
   "metadata": {},
   "outputs": [],
   "source": [
    "merged_test = impute_confirmation(merged_test)\n",
    "merged_dataset_train = impute_confirmation(merged_dataset_train)\n"
   ]
  },
  {
   "cell_type": "code",
   "execution_count": 320,
   "metadata": {},
   "outputs": [],
   "source": [
    "merged_test = merged_test.drop(['outcome',\"Lat\", \"Long_\", \"province\", \"country\", \"Combined_Key\", \"Province_State\", \"Last_Update\", \"longitude\", \"latitude\"], axis=1)"
   ]
  },
  {
   "cell_type": "code",
   "execution_count": 321,
   "metadata": {},
   "outputs": [],
   "source": [
    "merged_test = encode_confirmation(merged_test)\n",
    "merged_test = impute_age(merged_test)\n",
    "merged_test = clean_combined(merged_test)"
   ]
  },
  {
   "cell_type": "code",
   "execution_count": 322,
   "metadata": {},
   "outputs": [],
   "source": [
    "merged_dataset_train = merged_dataset_train.drop([\"Lat\", \"Long_\", \"province\", \"country\", \"Combined_Key\", \"Province_State\", \"Last_Update\", \"longitude\", \"latitude\"], axis=1)\n",
    "merged_dataset_train = encode_confirmation(merged_dataset_train)\n",
    "merged_dataset_train = impute_age(merged_dataset_train)\n",
    "merged_dataset_train = clean_combined(merged_dataset_train)"
   ]
  },
  {
   "cell_type": "code",
   "execution_count": 325,
   "metadata": {},
   "outputs": [],
   "source": [
    "merged_df = merged_test[merged_test.isna().any(axis=1)]\n",
    "merged_df.to_csv(\"../results/exceptions.csv\")"
   ]
  },
  {
   "cell_type": "code",
   "execution_count": 324,
   "metadata": {},
   "outputs": [],
   "source": [
    "  merged_dataset_train.to_csv(\"../results/cases_train_processed.csv\")\n",
    "  merged_test.to_csv(\"../results/cases_test_processed.csv\")"
   ]
  },
  {
   "cell_type": "code",
   "execution_count": null,
   "metadata": {},
   "outputs": [],
   "source": []
  }
 ]
}