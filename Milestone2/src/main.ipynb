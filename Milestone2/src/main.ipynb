{
 "cells": [
  {
   "cell_type": "code",
   "execution_count": 106,
   "metadata": {},
   "outputs": [
    {
     "name": "stdout",
     "output_type": "stream",
     "text": [
      "        age     sex      province      country  latitude  longitude  \\\n",
      "92974     3    male  Metro Manila  Philippines  14.63000  121.03000   \n",
      "14834     3  female       Sachsen      Germany  51.17964   14.42426   \n",
      "106643    3  female         Choco     Colombia   5.70990  -76.62021   \n",
      "127533    4  female    Tamil Nadu        India  13.08362   80.28252   \n",
      "24824     3    male          Lima         Peru -12.03818  -76.89318   \n",
      "\n",
      "       date_confirmation          outcome  \n",
      "92974         11.05.2020  nonhospitalized  \n",
      "14834         11.04.2020  nonhospitalized  \n",
      "106643        19.04.2020  nonhospitalized  \n",
      "127533        20.05.2020     hospitalized  \n",
      "24824         24.04.2020  nonhospitalized  \n"
     ]
    }
   ],
   "source": [
    "import pandas as pd\n",
    "import numpy as np\n",
    "import xgboost as xgb\n",
    "from sklearn.model_selection import train_test_split\n",
    "from sklearn.metrics import balanced_accuracy_score, roc_auc_score, make_scorer\n",
    "from sklearn.model_selection import GridSearchCV\n",
    "from sklearn.metrics import confusion_matrix\n",
    "from sklearn.metrics import plot_confusion_matrix\n",
    "from datetime import datetime\n",
    "import pickle\n",
    "\n",
    "df = pd.read_csv('../data/modified_cases_train.csv')\n",
    "df = df.dropna(subset=['sex'])\n",
    "\n",
    "# Task 2.1:\n",
    "# this will shuffle all rows in the dataframe and split 8:2 dataframe\n",
    "train_df, test_df = train_test_split(df, test_size=0.2)\n",
    "\n",
    "print(train_df.head())\n",
    "\n"
   ]
  },
  {
   "cell_type": "markdown",
   "metadata": {},
   "source": [
    "Removing space in **province** and **country** column"
   ]
  },
  {
   "cell_type": "code",
   "execution_count": 107,
   "metadata": {},
   "outputs": [],
   "source": [
    "df['province'].replace(' ', '_', regex=True, inplace=True)\n",
    "df['country'].replace(' ', '_', regex=True, inplace=True)\n",
    "X = df.drop('outcome', axis=1).copy()\n",
    "y = df['outcome'].copy()\n"
   ]
  },
  {
   "cell_type": "markdown",
   "metadata": {},
   "source": [
    "**We need to do One-Hot Encoding with the categorical data before using them to build the XGBoost tree**\n",
    "**Also we need to convert the date_confirmation to datetime format.**"
   ]
  },
  {
   "cell_type": "code",
   "execution_count": 108,
   "metadata": {},
   "outputs": [],
   "source": [
    "X['date_confirmation'] = pd.to_datetime(X['date_confirmation'],format='%d.%m.%Y')\n",
    "X['date_confirmation'] = X.apply(lambda x: (datetime.now() - x['date_confirmation']).days, axis=1)\n",
    "X_encoded = pd.get_dummies(X, columns=['country', 'province', 'sex'])\n"
   ]
  },
  {
   "cell_type": "code",
   "execution_count": 109,
   "metadata": {},
   "outputs": [
    {
     "name": "stdout",
     "output_type": "stream",
     "text": [
      "125711\n",
      "31428\n"
     ]
    }
   ],
   "source": [
    "X_train, X_test, y_train, y_test = train_test_split(X_encoded, y , test_size=0.2, random_state=42)\n",
    "X_train.head()\n",
    "\n",
    "print(len(X_train))\n",
    "print(len(X_test))"
   ]
  },
  {
   "cell_type": "code",
   "execution_count": 110,
   "metadata": {},
   "outputs": [
    {
     "name": "stdout",
     "output_type": "stream",
     "text": [
      "[0]\tvalidation_0-mlogloss:0.87332\n",
      "Will train until validation_0-mlogloss hasn't improved in 10 rounds.\n",
      "[1]\tvalidation_0-mlogloss:0.60945\n",
      "[2]\tvalidation_0-mlogloss:0.44315\n",
      "[3]\tvalidation_0-mlogloss:0.33098\n",
      "[4]\tvalidation_0-mlogloss:0.25273\n",
      "[5]\tvalidation_0-mlogloss:0.19701\n",
      "[6]\tvalidation_0-mlogloss:0.15691\n",
      "[7]\tvalidation_0-mlogloss:0.12787\n",
      "[8]\tvalidation_0-mlogloss:0.10664\n",
      "[9]\tvalidation_0-mlogloss:0.09105\n",
      "[10]\tvalidation_0-mlogloss:0.07953\n",
      "[11]\tvalidation_0-mlogloss:0.07105\n",
      "[12]\tvalidation_0-mlogloss:0.06483\n",
      "[13]\tvalidation_0-mlogloss:0.06000\n",
      "[14]\tvalidation_0-mlogloss:0.05645\n",
      "[15]\tvalidation_0-mlogloss:0.05389\n",
      "[16]\tvalidation_0-mlogloss:0.05192\n",
      "[17]\tvalidation_0-mlogloss:0.05043\n",
      "[18]\tvalidation_0-mlogloss:0.04930\n",
      "[19]\tvalidation_0-mlogloss:0.04845\n",
      "[20]\tvalidation_0-mlogloss:0.04768\n",
      "[21]\tvalidation_0-mlogloss:0.04704\n",
      "[22]\tvalidation_0-mlogloss:0.04660\n",
      "[23]\tvalidation_0-mlogloss:0.04626\n",
      "[24]\tvalidation_0-mlogloss:0.04593\n",
      "[25]\tvalidation_0-mlogloss:0.04565\n",
      "[26]\tvalidation_0-mlogloss:0.04549\n",
      "[27]\tvalidation_0-mlogloss:0.04531\n",
      "[28]\tvalidation_0-mlogloss:0.04517\n",
      "[29]\tvalidation_0-mlogloss:0.04507\n",
      "[30]\tvalidation_0-mlogloss:0.04497\n",
      "[31]\tvalidation_0-mlogloss:0.04486\n",
      "[32]\tvalidation_0-mlogloss:0.04483\n",
      "[33]\tvalidation_0-mlogloss:0.04477\n",
      "[34]\tvalidation_0-mlogloss:0.04473\n",
      "[35]\tvalidation_0-mlogloss:0.04463\n",
      "[36]\tvalidation_0-mlogloss:0.04461\n",
      "[37]\tvalidation_0-mlogloss:0.04459\n",
      "[38]\tvalidation_0-mlogloss:0.04457\n",
      "[39]\tvalidation_0-mlogloss:0.04446\n",
      "[40]\tvalidation_0-mlogloss:0.04442\n",
      "[41]\tvalidation_0-mlogloss:0.04435\n",
      "[42]\tvalidation_0-mlogloss:0.04433\n",
      "[43]\tvalidation_0-mlogloss:0.04427\n",
      "[44]\tvalidation_0-mlogloss:0.04426\n",
      "[45]\tvalidation_0-mlogloss:0.04417\n",
      "[46]\tvalidation_0-mlogloss:0.04419\n",
      "[47]\tvalidation_0-mlogloss:0.04417\n",
      "[48]\tvalidation_0-mlogloss:0.04413\n",
      "[49]\tvalidation_0-mlogloss:0.04409\n",
      "[50]\tvalidation_0-mlogloss:0.04406\n",
      "[51]\tvalidation_0-mlogloss:0.04405\n",
      "[52]\tvalidation_0-mlogloss:0.04403\n",
      "[53]\tvalidation_0-mlogloss:0.04400\n",
      "[54]\tvalidation_0-mlogloss:0.04399\n",
      "[55]\tvalidation_0-mlogloss:0.04399\n",
      "[56]\tvalidation_0-mlogloss:0.04398\n",
      "[57]\tvalidation_0-mlogloss:0.04393\n",
      "[58]\tvalidation_0-mlogloss:0.04394\n",
      "[59]\tvalidation_0-mlogloss:0.04390\n",
      "[60]\tvalidation_0-mlogloss:0.04388\n",
      "[61]\tvalidation_0-mlogloss:0.04389\n",
      "[62]\tvalidation_0-mlogloss:0.04388\n",
      "[63]\tvalidation_0-mlogloss:0.04385\n",
      "[64]\tvalidation_0-mlogloss:0.04384\n",
      "[65]\tvalidation_0-mlogloss:0.04381\n",
      "[66]\tvalidation_0-mlogloss:0.04380\n",
      "[67]\tvalidation_0-mlogloss:0.04379\n",
      "[68]\tvalidation_0-mlogloss:0.04378\n",
      "[69]\tvalidation_0-mlogloss:0.04378\n",
      "[70]\tvalidation_0-mlogloss:0.04377\n",
      "[71]\tvalidation_0-mlogloss:0.04374\n",
      "[72]\tvalidation_0-mlogloss:0.04375\n",
      "[73]\tvalidation_0-mlogloss:0.04376\n",
      "[74]\tvalidation_0-mlogloss:0.04374\n",
      "[75]\tvalidation_0-mlogloss:0.04371\n",
      "[76]\tvalidation_0-mlogloss:0.04370\n",
      "[77]\tvalidation_0-mlogloss:0.04369\n",
      "[78]\tvalidation_0-mlogloss:0.04370\n",
      "[79]\tvalidation_0-mlogloss:0.04371\n"
     ]
    },
    {
     "data": {
      "text/plain": [
       "XGBClassifier(base_score=0.5, booster='gbtree', colsample_bylevel=1,\n",
       "              colsample_bynode=1, colsample_bytree=1, gamma=0, gpu_id=-1,\n",
       "              importance_type='gain', interaction_constraints='',\n",
       "              learning_rate=0.300000012, max_delta_step=0, max_depth=6,\n",
       "              min_child_weight=1, missing=None, monotone_constraints='()',\n",
       "              n_estimators=80, n_jobs=0, num_class=4, num_parallel_tree=1,\n",
       "              objective='multi:softprob', random_state=42, reg_alpha=0,\n",
       "              reg_lambda=1, scale_pos_weight=None, seed=42, subsample=1,\n",
       "              tree_method='exact', validate_parameters=1, verbosity=None)"
      ]
     },
     "execution_count": 110,
     "metadata": {},
     "output_type": "execute_result"
    }
   ],
   "source": [
    "clf_xgb = xgb.XGBClassifier(objective='multi:softmax', missing=None, seed=42, num_class=4, n_estimators=80)\n",
    "clf_xgb.fit(X_train, \n",
    "            y_train,\n",
    "            verbose=True, \n",
    "            early_stopping_rounds=10,\n",
    "            eval_metric='mlogloss',\n",
    "            eval_set=[(X_test, y_test)])\n",
    "\n",
    "# save the model as .pkl file\n",
    "pkl_filename = '../models/xgb_classifier.pkl'\n",
    "pickle.dump(clf_xgb, open(pkl_filename, 'wb'))"
   ]
  },
  {
   "cell_type": "code",
   "execution_count": 112,
   "metadata": {},
   "outputs": [
    {
     "data": {
      "image/png": "[encoded data removed]",
      "text/plain": [
       "<Figure size 432x288 with 2 Axes>"
      ]
     },
     "metadata": {
      "needs_background": "light"
     },
     "output_type": "display_data"
    },
    {
     "data": {
      "image/png": "[encoded data removed]",
      "text/plain": [
       "<Figure size 432x288 with 2 Axes>"
      ]
     },
     "metadata": {
      "needs_background": "light"
     },
     "output_type": "display_data"
    }
   ],
   "source": [
    "# evaluating model\n",
    "# deceased=1, hospitalized=2, nonhospitalized=3, recovered=4\n",
    "plot_confusion_matrix(clf_xgb, X_train, y_train, values_format='d',\n",
    "                     display_labels=[1, 2, 3, 4])\n",
    "plot_confusion_matrix(clf_xgb, X_test, y_test, values_format='d',\n",
    "                     display_labels=[1, 2, 3, 4])\n"
   ]
  }
 ],
 "metadata": {
  "kernelspec": {
   "display_name": "Python 3",
   "language": "python",
   "name": "python3"
  },
  "language_info": {
   "codemirror_mode": {
    "name": "ipython",
    "version": 3
   },
   "file_extension": ".py",
   "mimetype": "text/x-python",
   "name": "python",
   "nbconvert_exporter": "python",
   "pygments_lexer": "ipython3",
   "version": "3.8.5"
  }
 },
 "nbformat": 4,
 "nbformat_minor": 4
}
